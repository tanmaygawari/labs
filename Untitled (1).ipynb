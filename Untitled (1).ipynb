{
 "cells": [
  {
   "cell_type": "code",
   "execution_count": 6,
   "id": "0cadcae5",
   "metadata": {},
   "outputs": [],
   "source": [
    "import pandas as pd\n",
    "from sklearn.linear_model import LinearRegression\n",
    "from sklearn.model_selection import train_test_split"
   ]
  },
  {
   "cell_type": "code",
   "execution_count": 5,
   "id": "16d55421",
   "metadata": {},
   "outputs": [
    {
     "data": {
      "text/html": [
       "<div>\n",
       "<style scoped>\n",
       "    .dataframe tbody tr th:only-of-type {\n",
       "        vertical-align: middle;\n",
       "    }\n",
       "\n",
       "    .dataframe tbody tr th {\n",
       "        vertical-align: top;\n",
       "    }\n",
       "\n",
       "    .dataframe thead th {\n",
       "        text-align: right;\n",
       "    }\n",
       "</style>\n",
       "<table border=\"1\" class=\"dataframe\">\n",
       "  <thead>\n",
       "    <tr style=\"text-align: right;\">\n",
       "      <th></th>\n",
       "      <th>price</th>\n",
       "      <th>area</th>\n",
       "      <th>bedrooms</th>\n",
       "      <th>bathrooms</th>\n",
       "    </tr>\n",
       "  </thead>\n",
       "  <tbody>\n",
       "    <tr>\n",
       "      <th>0</th>\n",
       "      <td>13300000</td>\n",
       "      <td>7420</td>\n",
       "      <td>4</td>\n",
       "      <td>2</td>\n",
       "    </tr>\n",
       "    <tr>\n",
       "      <th>1</th>\n",
       "      <td>12250000</td>\n",
       "      <td>8960</td>\n",
       "      <td>4</td>\n",
       "      <td>4</td>\n",
       "    </tr>\n",
       "    <tr>\n",
       "      <th>2</th>\n",
       "      <td>12250000</td>\n",
       "      <td>9960</td>\n",
       "      <td>3</td>\n",
       "      <td>2</td>\n",
       "    </tr>\n",
       "    <tr>\n",
       "      <th>3</th>\n",
       "      <td>12215000</td>\n",
       "      <td>7500</td>\n",
       "      <td>4</td>\n",
       "      <td>2</td>\n",
       "    </tr>\n",
       "    <tr>\n",
       "      <th>4</th>\n",
       "      <td>11410000</td>\n",
       "      <td>7420</td>\n",
       "      <td>4</td>\n",
       "      <td>1</td>\n",
       "    </tr>\n",
       "    <tr>\n",
       "      <th>...</th>\n",
       "      <td>...</td>\n",
       "      <td>...</td>\n",
       "      <td>...</td>\n",
       "      <td>...</td>\n",
       "    </tr>\n",
       "    <tr>\n",
       "      <th>540</th>\n",
       "      <td>1820000</td>\n",
       "      <td>3000</td>\n",
       "      <td>2</td>\n",
       "      <td>1</td>\n",
       "    </tr>\n",
       "    <tr>\n",
       "      <th>541</th>\n",
       "      <td>1767150</td>\n",
       "      <td>2400</td>\n",
       "      <td>3</td>\n",
       "      <td>1</td>\n",
       "    </tr>\n",
       "    <tr>\n",
       "      <th>542</th>\n",
       "      <td>1750000</td>\n",
       "      <td>3620</td>\n",
       "      <td>2</td>\n",
       "      <td>1</td>\n",
       "    </tr>\n",
       "    <tr>\n",
       "      <th>543</th>\n",
       "      <td>1750000</td>\n",
       "      <td>2910</td>\n",
       "      <td>3</td>\n",
       "      <td>1</td>\n",
       "    </tr>\n",
       "    <tr>\n",
       "      <th>544</th>\n",
       "      <td>1750000</td>\n",
       "      <td>3850</td>\n",
       "      <td>3</td>\n",
       "      <td>1</td>\n",
       "    </tr>\n",
       "  </tbody>\n",
       "</table>\n",
       "<p>545 rows × 4 columns</p>\n",
       "</div>"
      ],
      "text/plain": [
       "        price  area  bedrooms  bathrooms\n",
       "0    13300000  7420         4          2\n",
       "1    12250000  8960         4          4\n",
       "2    12250000  9960         3          2\n",
       "3    12215000  7500         4          2\n",
       "4    11410000  7420         4          1\n",
       "..        ...   ...       ...        ...\n",
       "540   1820000  3000         2          1\n",
       "541   1767150  2400         3          1\n",
       "542   1750000  3620         2          1\n",
       "543   1750000  2910         3          1\n",
       "544   1750000  3850         3          1\n",
       "\n",
       "[545 rows x 4 columns]"
      ]
     },
     "execution_count": 5,
     "metadata": {},
     "output_type": "execute_result"
    }
   ],
   "source": [
    "df=pd.read_csv(\"Housing.csv\",usecols=['area','bedrooms','bathrooms','price'])\n",
    "df"
   ]
  },
  {
   "cell_type": "code",
   "execution_count": 8,
   "id": "5db865d1",
   "metadata": {},
   "outputs": [],
   "source": [
    "x=df.drop('price',axis=1)\n",
    "y=df['price']"
   ]
  },
  {
   "cell_type": "code",
   "execution_count": 11,
   "id": "5f35268c",
   "metadata": {},
   "outputs": [],
   "source": [
    "x_train,x_test,y_train,y_test=train_test_split(x,y,test_size=0.2,random_state=2)"
   ]
  },
  {
   "cell_type": "code",
   "execution_count": 12,
   "id": "b92d21c1",
   "metadata": {},
   "outputs": [
    {
     "data": {
      "text/plain": [
       "LinearRegression()"
      ]
     },
     "execution_count": 12,
     "metadata": {},
     "output_type": "execute_result"
    }
   ],
   "source": [
    "linear=LinearRegression()\n",
    "linear.fit(x_train,y_train)"
   ]
  },
  {
   "cell_type": "code",
   "execution_count": 13,
   "id": "b201c5d0",
   "metadata": {},
   "outputs": [
    {
     "data": {
      "text/plain": [
       "array([ 3459604.98614916,  3776855.65892721,  3448367.13656089,\n",
       "        3327310.95879032,  4753653.78300699,  4875995.16406211,\n",
       "        4210988.15851822,  3605707.26966536,  3137377.99021925,\n",
       "        5306337.84979401,  4462734.41925912,  3659973.83211424,\n",
       "        4241493.81850601,  4195575.95797234,  4711910.27343093,\n",
       "        6777312.68263205,  6311070.57866474,  3686305.14114442,\n",
       "        3268870.04538383,  3810250.46658805,  5118491.408074  ,\n",
       "        4411740.89295405,  4925186.06073958,  6144096.5403605 ,\n",
       "        3022583.33888508,  3422035.8275307 ,  3494284.99709455,\n",
       "        3877040.08190975,  7610579.57839247,  3240451.56087485,\n",
       "        3400779.53564418,  3370691.31075215,  3409512.77465789,\n",
       "        6190915.71570797,  3959241.89777732,  7304566.10657494,\n",
       "        3376117.96699704,  6811992.69357745,  5538431.7630369 ,\n",
       "        4326200.24494814,  6991105.89628375,  4044014.12021398,\n",
       "        3260521.34346862,  5666935.32790888,  3710066.04360551,\n",
       "        3697542.99073269,  3137377.99021925,  3623689.87678034,\n",
       "        4094106.33170525,  4902645.21419625, 10518298.91758843,\n",
       "        5164827.35233117,  3160336.92048608,  3494284.99709455,\n",
       "        4649295.00906684,  5260354.19326581,  5517943.89671961,\n",
       "        4061996.72732896,  3060152.49750354,  6628321.25144279,\n",
       "        3459604.98614916,  3310613.55495989,  4540311.55107606,\n",
       "        5747533.19938794,  7715256.44480883,  4312457.78478531,\n",
       "        3647450.77924142,  4690203.64845138,  4010619.31255314,\n",
       "        5113031.85383184,  5424822.97236774,  5875652.87578917,\n",
       "        6758528.10332282,  4937325.22514165,  4010619.31255314,\n",
       "        5964215.5607127 ,  5199024.13218627,  4462734.41925912,\n",
       "       12549538.74218721,  6591070.83392829,  6248455.31430065,\n",
       "        3770594.1324908 ,  3910017.45447483,  3060152.49750354,\n",
       "        3686305.14114442,  3594469.42007709,  7271171.29891409,\n",
       "        4711910.27343093,  4860901.70462019,  5415705.84488328,\n",
       "        3686305.14114442,  4496129.22691997,  3005885.93505466,\n",
       "        9368683.31249151,  4365439.14394964,  5501246.49288919,\n",
       "        6731394.82209838,  3943829.69723144,  5634057.29796334,\n",
       "        3102697.97927385,  6034278.2121782 ,  3498459.34805216,\n",
       "        4302823.87958555,  3303934.59342772,  6352814.0882408 ,\n",
       "        3414972.32890004,  5763846.71474762,  4428054.40831373,\n",
       "        5111362.76207655])"
      ]
     },
     "execution_count": 13,
     "metadata": {},
     "output_type": "execute_result"
    }
   ],
   "source": [
    "linear.predict(x_test)"
   ]
  },
  {
   "cell_type": "code",
   "execution_count": 16,
   "id": "51d09df3",
   "metadata": {},
   "outputs": [
    {
     "data": {
      "text/plain": [
       "333    3920000\n",
       "84     6510000\n",
       "439    3255000\n",
       "396    3500000\n",
       "161    5460000\n",
       "        ...   \n",
       "100    6230000\n",
       "344    3850000\n",
       "176    5250000\n",
       "244    4550000\n",
       "15     9100000\n",
       "Name: price, Length: 109, dtype: int64"
      ]
     },
     "execution_count": 16,
     "metadata": {},
     "output_type": "execute_result"
    }
   ],
   "source": [
    "y_test"
   ]
  },
  {
   "cell_type": "code",
   "execution_count": null,
   "id": "0865ca0e",
   "metadata": {},
   "outputs": [],
   "source": []
  }
 ],
 "metadata": {
  "kernelspec": {
   "display_name": "Python 3 (ipykernel)",
   "language": "python",
   "name": "python3"
  },
  "language_info": {
   "codemirror_mode": {
    "name": "ipython",
    "version": 3
   },
   "file_extension": ".py",
   "mimetype": "text/x-python",
   "name": "python",
   "nbconvert_exporter": "python",
   "pygments_lexer": "ipython3",
   "version": "3.9.7"
  }
 },
 "nbformat": 4,
 "nbformat_minor": 5
}
